{
  "cells": [
    {
      "cell_type": "markdown",
      "metadata": {
        "colab_type": "text",
        "id": "view-in-github"
      },
      "source": [
        "<a href=\"https://colab.research.google.com/github/lankston-consulting/rpms-cutter/blob/main/rpms_cutout.ipynb\" target=\"_parent\"><img src=\"https://colab.research.google.com/assets/colab-badge.svg\" alt=\"Open In Colab\"/></a>"
      ]
    },
    {
      "cell_type": "markdown",
      "metadata": {
        "id": "zV9F2ZM1cPAr"
      },
      "source": [
        "These are some libraries that will need to be downloaded if the next cell throws some ModuleNotFound errors. Delete the # of the line who is missing and run the cell."
      ]
    },
    {
      "cell_type": "code",
      "execution_count": 9,
      "metadata": {
        "id": "wGPg8UcRXf78"
      },
      "outputs": [],
      "source": [
        "%%capture\n",
        "!pip install rasterio\n",
        "!pip install rioxarray\n",
        "!pip install dask\n",
        "!pip install xarray\n",
        "!pip install pandas\n",
        "!pip install google-cloud-storage\n",
        "!pip install google.cloud\n",
        "!pip install google.colab\n",
        "\n"
      ]
    },
    {
      "cell_type": "markdown",
      "metadata": {
        "id": "oif09S5JJCOv"
      },
      "source": [
        "# **Library Imports and Back End Setup**\n",
        "Nothing needs to be changed here, this cell just imports all the libraries our code needs to run, and gets Google Drive mounted to this notebook.\n",
        "\n",
        "You **will** need to approve this notebook to having access to your local Google Drive, it will be a little pop up when this cell gets run!"
      ]
    },
    {
      "cell_type": "code",
      "execution_count": 10,
      "metadata": {
        "colab": {
          "base_uri": "https://localhost:8080/"
        },
        "id": "xy5qkuvOUDnW",
        "outputId": "104048f4-5c98-4d44-8341-5d1c90bf5122"
      },
      "outputs": [
        {
          "ename": "ModuleNotFoundError",
          "evalue": "No module named 'google.cloud'",
          "output_type": "error",
          "traceback": [
            "\u001b[0;31m---------------------------------------------------------------------------\u001b[0m",
            "\u001b[0;31mModuleNotFoundError\u001b[0m                       Traceback (most recent call last)",
            "Cell \u001b[0;32mIn [10], line 9\u001b[0m\n\u001b[1;32m      7\u001b[0m \u001b[39mimport\u001b[39;00m \u001b[39mdask\u001b[39;00m\n\u001b[1;32m      8\u001b[0m \u001b[39mimport\u001b[39;00m \u001b[39mtempfile\u001b[39;00m\n\u001b[0;32m----> 9\u001b[0m \u001b[39mfrom\u001b[39;00m \u001b[39mgoogle\u001b[39;00m\u001b[39m.\u001b[39;00m\u001b[39mcloud\u001b[39;00m \u001b[39mimport\u001b[39;00m storage\n\u001b[1;32m     10\u001b[0m \u001b[39mfrom\u001b[39;00m \u001b[39mdask\u001b[39;00m\u001b[39m.\u001b[39;00m\u001b[39mdistributed\u001b[39;00m \u001b[39mimport\u001b[39;00m Client, LocalCluster, Lock, as_completed, fire_and_forget\n\u001b[1;32m     11\u001b[0m \u001b[39m# from dotenv import load_dotenv\u001b[39;00m\n",
            "\u001b[0;31mModuleNotFoundError\u001b[0m: No module named 'google.cloud'"
          ]
        }
      ],
      "source": [
        "import os\n",
        "import datetime\n",
        "import xarray as xr\n",
        "import pandas as pd\n",
        "import rasterio\n",
        "import rioxarray\n",
        "import dask\n",
        "import tempfile\n",
        "from google.cloud import storage\n",
        "from dask.distributed import Client, LocalCluster, Lock, as_completed, fire_and_forget\n",
        "# from dotenv import load_dotenv\n",
        "from google.colab import drive\n",
        "# !gcloud auth login\n",
        "\n",
        "drive.mount('/content/gdrive')\n",
        "cluster = LocalCluster(n_workers=8, processes=True)\n",
        "client = Client(cluster)\n",
        "path_template = \"gs://fuelcast-data/rpms/\"\n",
        "# load_dotenv()"
      ]
    },
    {
      "cell_type": "markdown",
      "metadata": {
        "id": "Do0mcJiNb2To"
      },
      "source": [
        "# **Inputs** \n",
        "\n",
        "start_year: The beginning year of the range you would like.\n",
        "\n",
        "end_year: The ending year of the range.\n",
        "\n",
        "raster_file: The name, and optionally folder, of the file stored in gcp."
      ]
    },
    {
      "cell_type": "code",
      "execution_count": null,
      "metadata": {
        "id": "HAam3WVMU1O0"
      },
      "outputs": [],
      "source": [
        "start_year = 2021\n",
        "end_year = 2022\n",
        "file_name = \"degradation_bpslut4_bpslut4_wgs84.tif\""
      ]
    },
    {
      "cell_type": "markdown",
      "metadata": {
        "id": "pQKcx1GrDnVQ"
      },
      "source": [
        "# **RPMS Extractor**\n",
        "You don't need to change anything in here, just let the cell run."
      ]
    },
    {
      "cell_type": "code",
      "execution_count": null,
      "metadata": {
        "colab": {
          "base_uri": "https://localhost:8080/"
        },
        "id": "6BqowECVVZ5Q",
        "outputId": "c6ee45a3-e5f9-4459-ac3c-53a74c37175c"
      },
      "outputs": [
        {
          "name": "stderr",
          "output_type": "stream",
          "text": [
            "WARNING:rasterio._env:CPLE_NotSupported in driver GTiff does not support open option CHUNKS\n",
            "WARNING:rasterio._env:CPLE_NotSupported in driver GTiff does not support open option CHUNKS\n",
            "WARNING:rasterio._env:CPLE_NotSupported in driver GTiff does not support open option LOCK\n"
          ]
        }
      ],
      "source": [
        "with rasterio.Env(GOOGLE_APPLICATION_CREDENTIALS=\"/content/gdrive/My Drive/fuelcast-storage-credentials.json\"):\n",
        "  zone_ds = rasterio.open(\"/content/\" + file_name, chunks=(1024, 1024))\n",
        "  bounds = zone_ds.bounds\n",
        "\n",
        "  profile = zone_ds.profile\n",
        "  profile.update(blockxsize=1024, blockysize=1024, tiled=True)\n",
        "\n",
        "  for y in range(start_year, end_year):\n",
        "      dx = rasterio.open(path_template + str(y) + \"/rpms_\" + str(y) + \".tif\", chunks=(1, 1024, 1024), lock=False)\n",
        "      op = f\"rpms_{str(y)}_mean.tif\"\n",
        "      with rasterio.open('/content/gdrive/My Drive/rpms_'+str(y)+'.tif', 'w', **profile) as dst:\n",
        "          win = dx.window(bottom=bounds.bottom, right=bounds.right, top=bounds.top, left=bounds.left)\n",
        "          dat = dx.read(window=win)\n",
        "          dst.write(dat)"
      ]
    }
  ],
  "metadata": {
    "colab": {
      "collapsed_sections": [],
      "include_colab_link": true,
      "provenance": []
    },
    "kernelspec": {
      "display_name": "Python 3.10.4 64-bit",
      "language": "python",
      "name": "python3"
    },
    "language_info": {
      "codemirror_mode": {
        "name": "ipython",
        "version": 3
      },
      "file_extension": ".py",
      "mimetype": "text/x-python",
      "name": "python",
      "nbconvert_exporter": "python",
      "pygments_lexer": "ipython3",
      "version": "3.10.4"
    },
    "vscode": {
      "interpreter": {
        "hash": "3ad933181bd8a04b432d3370b9dc3b0662ad032c4dfaa4e4f1596c548f763858"
      }
    }
  },
  "nbformat": 4,
  "nbformat_minor": 0
}
