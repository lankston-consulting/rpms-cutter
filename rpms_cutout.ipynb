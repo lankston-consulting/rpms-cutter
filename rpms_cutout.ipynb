{
  "nbformat": 4,
  "nbformat_minor": 0,
  "metadata": {
    "colab": {
      "provenance": [],
      "include_colab_link": true
    },
    "kernelspec": {
      "name": "python3",
      "display_name": "Python 3"
    },
    "language_info": {
      "name": "python"
    }
  },
  "cells": [
    {
      "cell_type": "markdown",
      "metadata": {
        "id": "view-in-github",
        "colab_type": "text"
      },
      "source": [
        "<a href=\"https://colab.research.google.com/github/lankston-consulting/rpms-cutter/blob/main/rpms_cutout.ipynb\" target=\"_parent\"><img src=\"https://colab.research.google.com/assets/colab-badge.svg\" alt=\"Open In Colab\"/></a>"
      ]
    },
    {
      "cell_type": "markdown",
      "source": [
        "These are some libraries that will need to be downloaded if the next cell throws some ModuleNotFound errors. Delete the # of the line who is missing and run the cell."
      ],
      "metadata": {
        "id": "zV9F2ZM1cPAr"
      }
    },
    {
      "cell_type": "code",
      "source": [
        "%%capture\n",
        "!pip install rasterio\n",
        "!pip install rioxarray\n",
        "!pip install ipyleaflet\n",
        "!pip install dask\n",
        "!pip install dask[distributed]\n",
        "!pip install xarray"
      ],
      "metadata": {
        "id": "wGPg8UcRXf78"
      },
      "execution_count": 1,
      "outputs": []
    },
    {
      "cell_type": "markdown",
      "source": [
        "# **Library Imports and Back End Setup**\n",
        "Nothing needs to be changed here, this cell just imports all the libraries our code needs to run, and gets Google Drive mounted to this notebook.\n",
        "\n",
        "You **will** need to approve this notebook to having access to your local Google Drive, it will be a little pop up when this cell gets run!"
      ],
      "metadata": {
        "id": "oif09S5JJCOv"
      }
    },
    {
      "cell_type": "code",
      "execution_count": 2,
      "metadata": {
        "id": "xy5qkuvOUDnW",
        "colab": {
          "base_uri": "https://localhost:8080/"
        },
        "outputId": "a00917c3-4acc-489b-edd3-9fbbe7d44a2e"
      },
      "outputs": [
        {
          "output_type": "stream",
          "name": "stdout",
          "text": [
            "Mounted at /content/gdrive\n"
          ]
        }
      ],
      "source": [
        "import os\n",
        "import datetime\n",
        "import numpy as np\n",
        "import xarray as xr\n",
        "import pandas as pd\n",
        "import rasterio\n",
        "import rioxarray\n",
        "import dask\n",
        "import tempfile\n",
        "from rasterio.coords import BoundingBox\n",
        "from ipyleaflet import *\n",
        "from google.cloud import storage\n",
        "from dask.distributed import Client, LocalCluster, Lock, as_completed, fire_and_forget\n",
        "from google.colab import drive\n",
        "\n",
        "drive.mount('/content/gdrive')\n",
        "cluster = LocalCluster(n_workers=8, processes=True)\n",
        "client = Client(cluster)\n",
        "path_template = \"https://storage.googleapis.com/fuelcast-public/rpms/\""
      ]
    },
    {
      "cell_type": "markdown",
      "source": [
        "# **Inputs** \n",
        "\n",
        "start_year: The beginning year of the range.\n",
        "\n",
        "end_year: The ending year of the range.\n",
        "\n",
        "raster_file: The name of the file you dropped into the file space to the left.\n",
        "\n",
        "**(Optional)** poly_coords: A list of coordinates. This can be typed in manually, but it is highly recommended that you use the drawing tool below."
      ],
      "metadata": {
        "id": "Do0mcJiNb2To"
      }
    },
    {
      "cell_type": "code",
      "source": [
        "start_year = 2021\n",
        "end_year = 2022\n",
        "# Can look like: \"degradation_bpslut4_bpslut4_wgs84.tif\" if dragged and dropped on the left. OR if in gdrive already: \"gdrive/MyDrive/degradation_bpslut4_bpslut4_wgs84.tif\"\n",
        "file_name = \"degradation_bpslut4_bpslut4_wgs84.tif\"\n",
        "prefix = \"test\"\n",
        "poly_coords = {\"coords\":[]}"
      ],
      "metadata": {
        "id": "HAam3WVMU1O0"
      },
      "execution_count": 8,
      "outputs": []
    },
    {
      "cell_type": "markdown",
      "source": [
        "# **Optional geometry drawing tool**\n",
        "Use this tool if you need a slice of the incoming raster instead of the entire one. If you dont need it, you dont need to run this cell."
      ],
      "metadata": {
        "id": "T6QTRpU0XdIg"
      }
    },
    {
      "cell_type": "code",
      "source": [
        "zone_map = Map(center=(38, -97),\n",
        "                zoom=5,\n",
        "                basemap=basemap_to_tiles(basemaps.OpenStreetMap.Mapnik))\n",
        "\n",
        "draw_control = DrawControl(\n",
        "    rectangle= {\n",
        "        \"fillColor\": \"#fca45d\",\n",
        "        \"color\": \"#fca45d\",\n",
        "        \"fillOpacity\": 0.2\n",
        "    },\n",
        "    polygon={},\n",
        "    polyline={},\n",
        "    circlemarker={}\n",
        "    )\n",
        "\n",
        "zone_map.add_control(draw_control)\n",
        "\n",
        "def handle_draw(self, action, geo_json):\n",
        "    poly_coords[\"coords\"] = draw_control.last_draw['geometry']['coordinates'][0]\n",
        "    print(poly_coords)\n",
        "    print(\"Done generating coordinates.\")\n",
        "    return poly_coords\n",
        "    \n",
        "draw_control.on_draw(handle_draw)\n",
        "\n",
        "\n",
        "zone_map"
      ],
      "metadata": {
        "id": "nFHsP2KGXJTy"
      },
      "execution_count": null,
      "outputs": []
    },
    {
      "cell_type": "markdown",
      "source": [
        "# **RPMS Extractor**\n",
        "You don't need to change anything in here, just let the cell run."
      ],
      "metadata": {
        "id": "pQKcx1GrDnVQ"
      }
    },
    {
      "cell_type": "code",
      "source": [
        "def pol_to_np(pol):\n",
        "    \"\"\"\n",
        "    Receives list of coordinates: [[x1,y1],[x2,y2],...,[xN,yN]]\n",
        "    \"\"\"\n",
        "    return np.array([list(l) for l in pol])\n",
        "\n",
        "def pol_to_bounding_box(pol):\n",
        "    \"\"\"\n",
        "    Receives list of coordinates: [[x1,y1],[x2,y2],...,[xN,yN]]\n",
        "    \"\"\"\n",
        "    arr = pol_to_np(pol)\n",
        "    return BoundingBox(np.min(arr[:,0]),\n",
        "                       np.min(arr[:,1]),\n",
        "                       np.max(arr[:,0]),\n",
        "                       np.max(arr[:,1]))\n",
        "\n",
        "\n",
        "zone_ds = rasterio.open(\"/content/\" + file_name, chunks=(1024, 1024))\n",
        "if poly_coords[\"coords\"] != []:\n",
        "  print(\"Generating boundary with drawn geometry\")\n",
        "  bounds = pol_to_bounding_box(poly_coords[\"coords\"])\n",
        "else:\n",
        "  print(\"Generating boundary with imported raster's dimensions\")\n",
        "  bounds = zone_ds.bounds\n",
        "\n",
        "profile = zone_ds.profile\n",
        "profile.update(blockxsize=1024, blockysize=1024, tiled=True)\n",
        "\n",
        "for y in range(start_year, end_year):\n",
        "    dx = rasterio.open(\"http://34.120.120.135/rpms/\" + str(y) + \"/rpms_\" + str(y) + \".tif\", chunks=(1, 1024, 1024), lock=False)\n",
        "    op = f\"rpms_{str(y)}_mean.tif\"\n",
        "    with rasterio.open('/content/gdrive/MyDrive/'+ prefix + \"_\" + 'rpms_'+str(y)+'.tif', 'w', **profile) as dst:\n",
        "      win = dx.window(bottom=bounds.bottom, right=bounds.right, top=bounds.top, left=bounds.left)\n",
        "      dat = dx.read(window=win)\n",
        "      dst.write(dat)"
      ],
      "metadata": {
        "id": "6BqowECVVZ5Q",
        "colab": {
          "base_uri": "https://localhost:8080/"
        },
        "outputId": "8558818d-dc1d-4cbf-82ea-43dea9136f46"
      },
      "execution_count": 10,
      "outputs": [
        {
          "output_type": "stream",
          "name": "stderr",
          "text": [
            "WARNING:rasterio._env:CPLE_NotSupported in driver GTiff does not support open option CHUNKS\n",
            "WARNING:rasterio._env:CPLE_NotSupported in driver GTiff does not support open option CHUNKS\n",
            "WARNING:rasterio._env:CPLE_NotSupported in driver GTiff does not support open option LOCK\n"
          ]
        },
        {
          "output_type": "stream",
          "name": "stdout",
          "text": [
            "Generating boundary with imported raster's dimensions\n"
          ]
        },
        {
          "output_type": "stream",
          "name": "stderr",
          "text": [
            "WARNING:rasterio._env:CPLE_NotSupported in driver GTiff does not support open option CHUNKS\n",
            "WARNING:rasterio._env:CPLE_NotSupported in driver GTiff does not support open option LOCK\n",
            "WARNING:rasterio._env:CPLE_NotSupported in driver GTiff does not support open option CHUNKS\n",
            "WARNING:rasterio._env:CPLE_NotSupported in driver GTiff does not support open option LOCK\n"
          ]
        }
      ]
    }
  ]
}