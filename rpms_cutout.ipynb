{
  "nbformat": 4,
  "nbformat_minor": 0,
  "metadata": {
    "colab": {
      "provenance": [],
      "collapsed_sections": [],
      "toc_visible": true,
      "include_colab_link": true
    },
    "kernelspec": {
      "name": "python3",
      "display_name": "Python 3"
    },
    "language_info": {
      "name": "python"
    }
  },
  "cells": [
    {
      "cell_type": "markdown",
      "metadata": {
        "id": "view-in-github",
        "colab_type": "text"
      },
      "source": [
        "<a href=\"https://colab.research.google.com/github/lankston-consulting/rpms-cutter/blob/main/rpms_cutout.ipynb\" target=\"_parent\"><img src=\"https://colab.research.google.com/assets/colab-badge.svg\" alt=\"Open In Colab\"/></a>"
      ]
    },
    {
      "cell_type": "markdown",
      "source": [
        "These are some libraries that will need to be downloaded if the next cell throws some ModuleNotFound errors. Delete the # of the line who is missing and run the cell."
      ],
      "metadata": {
        "id": "zV9F2ZM1cPAr"
      }
    },
    {
      "cell_type": "code",
      "source": [
        "%%capture\n",
        "!pip install rasterio\n",
        "!pip install rioxarray"
      ],
      "metadata": {
        "id": "wGPg8UcRXf78"
      },
      "execution_count": null,
      "outputs": []
    },
    {
      "cell_type": "markdown",
      "source": [
        "# **Library Imports and Back End Setup**\n",
        "Nothing needs to be changed here, this cell just imports all the libraries our code needs to run, and gets Google Drive mounted to this notebook.\n",
        "\n",
        "You **will** need to approve this notebook to having access to your local Google Drive, it will be a little pop up when this cell gets run!"
      ],
      "metadata": {
        "id": "oif09S5JJCOv"
      }
    },
    {
      "cell_type": "code",
      "execution_count": null,
      "metadata": {
        "colab": {
          "base_uri": "https://localhost:8080/"
        },
        "id": "xy5qkuvOUDnW",
        "outputId": "af695b9a-a2f9-4553-e496-660a4f4bbe87"
      },
      "outputs": [
        {
          "output_type": "stream",
          "name": "stdout",
          "text": [
            "Mounted at /content/gdrive\n"
          ]
        }
      ],
      "source": [
        "import os\n",
        "import datetime\n",
        "import xarray as xr\n",
        "import pandas as pd\n",
        "import rasterio\n",
        "import rioxarray\n",
        "import dask\n",
        "from dask.distributed import Client, LocalCluster, Lock, as_completed, fire_and_forget\n",
        "# from dotenv import load_dotenv\n",
        "from google.colab import drive\n",
        "drive.mount('/content/gdrive')\n",
        "cluster = LocalCluster(n_workers=8, processes=True)\n",
        "client = Client(cluster)\n",
        "path_template = \"gs://fuelcast-data/rpms/\"\n",
        "# load_dotenv()"
      ]
    },
    {
      "cell_type": "markdown",
      "source": [
        "# **Inputs.** \n",
        "\n",
        "start_year: The beginning year of the range you would like.\n",
        "\n",
        "end_year: The ending year of the range.\n",
        "\n",
        "url_to_raster: The path to where your file will be saved locally."
      ],
      "metadata": {
        "id": "Do0mcJiNb2To"
      }
    },
    {
      "cell_type": "code",
      "source": [
        "start_year = 2021\n",
        "end_year = 2022\n",
        "url_to_raster = \"/degradation_bpslut4_bpslut4_wgs84.tif\""
      ],
      "metadata": {
        "id": "HAam3WVMU1O0"
      },
      "execution_count": null,
      "outputs": []
    },
    {
      "cell_type": "markdown",
      "source": [
        "# **RPMS Extractor**\n",
        "You don't need to change anything in here, just let the cell run."
      ],
      "metadata": {
        "id": "pQKcx1GrDnVQ"
      }
    },
    {
      "cell_type": "code",
      "source": [
        "with rasterio.Env(GOOGLE_APPLICATION_CREDENTIALS=\"/json/fuelcast-storage-credentials.json\"):\n",
        "  zone_ds = rasterio.open(\"gs://fuelcast-data/degradation/bpslut4/bpslut4_wgs84.tif\", chunks=(1024, 1024))\n",
        "  bounds = zone_ds.bounds\n",
        "\n",
        "  profile = zone_ds.profile\n",
        "  profile.update(blockxsize=1024, blockysize=1024, tiled=True)\n",
        "\n",
        "  for y in range(start_year, end_year):\n",
        "      dx = rasterio.open(path_template + str(y) + \"/rpms_\" + str(y) + \".tif\", chunks=(1, 1024, 1024), lock=False)\n",
        "      op = f\"rpms_{str(y)}_mean.tif\"\n",
        "      with rasterio.open('/content/gdrive/My Drive/rpms_'+str(y)+'.tif', 'w', **profile) as dst:\n",
        "          win = dx.window(bottom=bounds.bottom, right=bounds.right, top=bounds.top, left=bounds.left)\n",
        "          dat = dx.read(window=win)\n",
        "          dst.write(dat)\n",
        "\n",
        "  # for y in range(start_year, end_year):\n",
        "  #     if y == 2012:\n",
        "  #         continue\n",
        "  #     f = f\"./rpms_{y}.tif\"\n",
        "  #     with open('/content/gdrive/My Drive/rpms_'+str(y)+'.tif', 'w') as nf:\n",
        "  #       f.seek(0)\n",
        "  #       nf.write(f.read)"
      ],
      "metadata": {
        "id": "6BqowECVVZ5Q",
        "colab": {
          "base_uri": "https://localhost:8080/"
        },
        "outputId": "f0d0c6db-3ae9-40aa-999d-bf39d9b5d49a"
      },
      "execution_count": null,
      "outputs": [
        {
          "output_type": "stream",
          "name": "stderr",
          "text": [
            "WARNING:rasterio._env:CPLE_NotSupported in driver GTiff does not support open option CHUNKS\n",
            "WARNING:rasterio._env:CPLE_NotSupported in driver GTiff does not support open option CHUNKS\n",
            "WARNING:rasterio._env:CPLE_NotSupported in driver GTiff does not support open option LOCK\n"
          ]
        }
      ]
    }
  ]
}